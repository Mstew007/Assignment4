{
  "nbformat": 4,
  "nbformat_minor": 0,
  "metadata": {
    "colab": {
      "provenance": [],
      "authorship_tag": "ABX9TyOr5HhM0IusIs/eL8zLe8Jx",
      "include_colab_link": true
    },
    "kernelspec": {
      "name": "python3",
      "display_name": "Python 3"
    },
    "language_info": {
      "name": "python"
    }
  },
  "cells": [
    {
      "cell_type": "markdown",
      "metadata": {
        "id": "view-in-github",
        "colab_type": "text"
      },
      "source": [
        "<a href=\"https://colab.research.google.com/github/Mstew007/Assignment4/blob/main/3aAND3b.ipynb\" target=\"_parent\"><img src=\"https://colab.research.google.com/assets/colab-badge.svg\" alt=\"Open In Colab\"/></a>"
      ]
    },
    {
      "cell_type": "code",
      "execution_count": 12,
      "metadata": {
        "colab": {
          "base_uri": "https://localhost:8080/"
        },
        "id": "XRcFbRrQfyXb",
        "outputId": "8612345c-324b-493c-a92b-0ea08c6c3483"
      },
      "outputs": [
        {
          "output_type": "stream",
          "name": "stdout",
          "text": [
            "[63, 70, 77, 84]\n",
            "\n",
            "\n",
            "For x = 40, y = 347.0\n",
            "For x = 50, y = 421.0\n",
            "For x = 120, y = 939.0\n",
            "For x = -8, y = -8.200000000000003\n",
            "For x = 6, y = 95.4\n"
          ]
        }
      ],
      "source": [
        "multiples = [n for n in range(59, 86) if n % 7 == 0]\n",
        "\n",
        "print(multiples)\n",
        "print(\"\\n\")\n",
        "xvalue = [40, 50, 120, -8, 6]\n",
        "for x in xvalue:\n",
        "    y = 7.4 * x + 51\n",
        "    yvalue.append(y)\n",
        "for x, y in zip(xvalue, yvalue):\n",
        "    print(f\"For x = {x}, y = {y}\")"
      ]
    }
  ]
}